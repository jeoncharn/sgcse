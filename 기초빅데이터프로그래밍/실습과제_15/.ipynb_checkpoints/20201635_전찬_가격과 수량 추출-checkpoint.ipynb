{
 "cells": [
  {
   "cell_type": "code",
   "execution_count": 30,
   "id": "0908f1f2",
   "metadata": {},
   "outputs": [],
   "source": [
    "#실습 1\n",
    "data = \"\"\"\n",
    "ABC01: $23.45\n",
    "HGG42: $5.01\n",
    "CFXE1: $889.00\n",
    "XTC99: $69.89\n",
    "Total items found: 4\n",
    "\"\"\""
   ]
  },
  {
   "cell_type": "code",
   "execution_count": 35,
   "id": "27e0ae03",
   "metadata": {},
   "outputs": [
    {
     "name": "stdout",
     "output_type": "stream",
     "text": [
      "23.45\n",
      "5.01\n",
      "889.00\n",
      "69.89\n"
     ]
    }
   ],
   "source": [
    "import re\n",
    "findprice = re.compile(\"\\d+[.]\\d+$\", re.M)\n",
    "\n",
    "print(\"\\n\".join(findprice.findall(data)))"
   ]
  },
  {
   "cell_type": "code",
   "execution_count": 39,
   "id": "e3d3f953",
   "metadata": {},
   "outputs": [],
   "source": [
    "#실습 2\n",
    "data = \"\"\"\n",
    "I paid $30 for 100 apples,\n",
    "50 oranges, and 60 pears.\n",
    "I saved $5 on this order.\n",
    "\"\"\""
   ]
  },
  {
   "cell_type": "code",
   "execution_count": 48,
   "id": "7f0908b1",
   "metadata": {},
   "outputs": [
    {
     "name": "stdout",
     "output_type": "stream",
     "text": [
      "가격을 나타내는 숫자들\n",
      "30\n",
      "5\n",
      "\n",
      "수량을 나타내는 숫자들\n",
      "100\n",
      "50\n",
      "60\n"
     ]
    }
   ],
   "source": [
    "import re\n",
    "price = re.compile(\"[$](\\d+)\", re.M)\n",
    "number = re.compile(\"\\s(\\d+)\", re.M)\n",
    "\n",
    "print(\"가격을 나타내는 숫자들\")\n",
    "print(\"\\n\".join(price.findall(data)))\n",
    "print()\n",
    "print(\"수량을 나타내는 숫자들\")\n",
    "print(\"\\n\".join(number.findall(data)))"
   ]
  },
  {
   "cell_type": "code",
   "execution_count": null,
   "id": "2d3d2fdf",
   "metadata": {},
   "outputs": [],
   "source": []
  }
 ],
 "metadata": {
  "kernelspec": {
   "display_name": "Python 3 (ipykernel)",
   "language": "python",
   "name": "python3"
  },
  "language_info": {
   "codemirror_mode": {
    "name": "ipython",
    "version": 3
   },
   "file_extension": ".py",
   "mimetype": "text/x-python",
   "name": "python",
   "nbconvert_exporter": "python",
   "pygments_lexer": "ipython3",
   "version": "3.9.7"
  }
 },
 "nbformat": 4,
 "nbformat_minor": 5
}
