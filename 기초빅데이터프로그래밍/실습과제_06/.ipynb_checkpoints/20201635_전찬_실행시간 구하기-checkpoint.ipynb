{
 "cells": [
  {
   "cell_type": "code",
   "execution_count": 5,
   "id": "b3f33e2b",
   "metadata": {},
   "outputs": [],
   "source": [
    "import time\n",
    "\n",
    "def checkTime(func):\n",
    "    # *args, **kwargs를 이용해서 checkTime decorator를 다양한 함수에 적용할 수 있도록 구현한다.\n",
    "    def func_time(*args, **kwargs):\n",
    "        #현재 한국의 시간을 print한다.\n",
    "        print(time.strftime('[%Y-%m-%d %H:%M]', time.localtime()))\n",
    "        \n",
    "        #함수 실행 전과 후에 시간을 측정한 이후, 그 차를 통해 실행 시간을 파악한다.\n",
    "        before_time = time.time()\n",
    "        func(*args, **kwargs)\n",
    "        after_time = time.time()\n",
    "        print(\"실행시간은:\", after_time - before_time)\n",
    "    \n",
    "    return func_time\n",
    "\n",
    "@checkTime\n",
    "def aFunc():\n",
    "    for i in range(1, 101):\n",
    "        print(i, end = \" \")\n",
    "\n",
    "@checkTime\n",
    "def bFunc(start, end):\n",
    "    for i in range(start, end+1):\n",
    "        print(i, end = \" \")"
   ]
  },
  {
   "cell_type": "code",
   "execution_count": 6,
   "id": "4004c733",
   "metadata": {},
   "outputs": [
    {
     "name": "stdout",
     "output_type": "stream",
     "text": [
      "[2022-04-10 14:40]\n",
      "1 2 3 4 5 6 7 8 9 10 11 12 13 14 15 16 17 18 19 20 21 22 23 24 25 26 27 28 29 30 31 32 33 34 35 36 37 38 39 40 41 42 43 44 45 46 47 48 49 50 51 52 53 54 55 56 57 58 59 60 61 62 63 64 65 66 67 68 69 70 71 72 73 74 75 76 77 78 79 80 81 82 83 84 85 86 87 88 89 90 91 92 93 94 95 96 97 98 99 100 실행시간은: 0.0065860748291015625\n",
      "--------------------\n",
      "[2022-04-10 14:40]\n",
      "101 102 103 104 105 106 107 108 109 110 111 112 113 114 115 116 117 118 119 120 121 122 123 124 125 126 127 128 129 130 131 132 133 134 135 136 137 138 139 140 141 142 143 144 145 146 147 148 149 150 151 152 153 154 155 156 157 158 159 160 161 162 163 164 165 166 167 168 169 170 171 172 173 174 175 176 177 178 179 180 181 182 183 184 185 186 187 188 189 190 191 192 193 194 195 196 197 198 199 200 201 202 실행시간은: 0.0033202171325683594\n"
     ]
    }
   ],
   "source": [
    "aFunc()\n",
    "print(\"--------------------\")\n",
    "bFunc(101, 202)"
   ]
  },
  {
   "cell_type": "code",
   "execution_count": null,
   "id": "766cdde8",
   "metadata": {},
   "outputs": [],
   "source": []
  }
 ],
 "metadata": {
  "kernelspec": {
   "display_name": "Python 3 (ipykernel)",
   "language": "python",
   "name": "python3"
  },
  "language_info": {
   "codemirror_mode": {
    "name": "ipython",
    "version": 3
   },
   "file_extension": ".py",
   "mimetype": "text/x-python",
   "name": "python",
   "nbconvert_exporter": "python",
   "pygments_lexer": "ipython3",
   "version": "3.9.7"
  }
 },
 "nbformat": 4,
 "nbformat_minor": 5
}
