{
 "cells": [
  {
   "cell_type": "code",
   "execution_count": 15,
   "id": "3fa3776d",
   "metadata": {},
   "outputs": [
    {
     "name": "stdout",
     "output_type": "stream",
     "text": [
      "Overwriting W_2.py\n"
     ]
    }
   ],
   "source": [
    "%%writefile W_2.py\n",
    "# 실습 1\n",
    "\n",
    "import sys\n",
    "import datetime\n",
    "\n",
    "date = ['월요일', '화요일', '수요일', '목요일', '금요일', '토요일', '일요일']\n",
    "dt = datetime.date(int(sys.argv[1]), int(sys.argv[2]), int(sys.argv[3]))\n",
    "\n",
    "print(date[dt.weekday()])"
   ]
  },
  {
   "cell_type": "code",
   "execution_count": 16,
   "id": "a554059b",
   "metadata": {},
   "outputs": [
    {
     "name": "stdout",
     "output_type": "stream",
     "text": [
      "화요일\n"
     ]
    }
   ],
   "source": [
    "%run W_2.py 2019 10 1"
   ]
  },
  {
   "cell_type": "code",
   "execution_count": 17,
   "id": "96ed8ff0",
   "metadata": {},
   "outputs": [
    {
     "name": "stdout",
     "output_type": "stream",
     "text": [
      "월요일\n"
     ]
    }
   ],
   "source": [
    "%run W_2.py 2019 10 14"
   ]
  },
  {
   "cell_type": "code",
   "execution_count": 18,
   "id": "03ec716d",
   "metadata": {},
   "outputs": [
    {
     "data": {
      "text/plain": [
       "'posix'"
      ]
     },
     "execution_count": 18,
     "metadata": {},
     "output_type": "execute_result"
    }
   ],
   "source": [
    "# 실습 2-1\n",
    "\n",
    "import os\n",
    "os.name"
   ]
  },
  {
   "cell_type": "code",
   "execution_count": 19,
   "id": "c4dbe08a",
   "metadata": {},
   "outputs": [
    {
     "name": "stdout",
     "output_type": "stream",
     "text": [
      "Writing leapArg.py\n"
     ]
    }
   ],
   "source": [
    "%%writefile leapArg.py\n",
    "# 실습 2-2\n",
    "\n",
    "import sys\n",
    "import datetime\n",
    "\n",
    "#윤년인지 아닌지를 파악하는 함수이다.\n",
    "def is_leap(year):\n",
    "    #400으로 나누어지는 해는 윤년이다.\n",
    "    if year%400 == 0:\n",
    "        return True\n",
    "    \n",
    "    #100으로 나누어지는 해는 윤년이 아니다.\n",
    "    elif year%100 == 0:\n",
    "        return False\n",
    "    \n",
    "    #4로 나누어지는 해는 윤년이다.\n",
    "    elif year%4 == 0:\n",
    "        return True\n",
    "    \n",
    "    else:\n",
    "        return False\n",
    "        \n",
    "\n",
    "#년, 월, 일에 따라 요일, 혹은 False를 return하는 함수이다.\n",
    "def get_day_name(year, month, day):\n",
    "    #2월 29일이며 윤년이 아닌 경우, return False를 수행한다.\n",
    "    #이외의 경우, return \"_요일\" 을 수행한다.\n",
    "    \n",
    "    #총 일수를 세는 변수이다.\n",
    "    day_count = 0\n",
    "    day_per_month = [0, 31, 28, 31, 30, 31, 30, 31, 31, 30, 31, 30, 31]\n",
    "    date = [\"월\", \"화\", \"수\", \"목\", \"금\", \"토\", \"일\"]\n",
    "    \n",
    "    if is_leap(year) == False:\n",
    "        if month==2 and day == 29:\n",
    "            return False\n",
    "    \n",
    "    #요일을 계산한다.\n",
    "    #year에 의한 일수를 계산한다.\n",
    "    for i in range(1, year):\n",
    "        if is_leap(i) == True:\n",
    "            day_count += 366\n",
    "        else:\n",
    "            day_count += 365\n",
    "    \n",
    "    #month에 의한 일수를 계산한다.\n",
    "    for i in range(1, month):\n",
    "        day_count += day_per_month[i]\n",
    "        if i == 2 and is_leap(year) == True:\n",
    "            day_count += 1\n",
    "    \n",
    "    #day에 의한 일수를 계산한다.\n",
    "    day_count += (day - 1) #1일부터 시작하므로, 1을 빼준다.\n",
    "    \n",
    "    #총 day_count를 7로 나누어서 date를 통해 무슨 요일인지 파악한다.\n",
    "    return date[day_count%7] + \"요일\"\n",
    "\n",
    "\n",
    "if __name__ == \"__main__\":\n",
    "    \n",
    "    year, month, day = int(sys.argv[1]), int(sys.argv[2]), int(sys.argv[3])\n",
    "    day_name = get_day_name(year, month, day)\n",
    "    if day_name == False:\n",
    "        print(\"입력하신 날짜는 존재하지 않습니다.\")\n",
    "    else:\n",
    "        print(day_name)\n",
    "        if is_leap(year) == True:\n",
    "            print(\"입력하신 %s은 윤년입니다\" % year)"
   ]
  },
  {
   "cell_type": "code",
   "execution_count": 20,
   "id": "b689eb68",
   "metadata": {},
   "outputs": [
    {
     "name": "stdout",
     "output_type": "stream",
     "text": [
      "일요일\n"
     ]
    }
   ],
   "source": [
    "%run leapArg.py 2018 4 15"
   ]
  },
  {
   "cell_type": "code",
   "execution_count": 31,
   "id": "0dfd6d48",
   "metadata": {},
   "outputs": [],
   "source": [
    "# 실습 2-3\n",
    "import math\n",
    "formula_1 = (2000/math.log(20)*math.sin(2*math.pi))\n",
    "formula_2 = (3**100)*math.log(300)\n",
    "formula_3 = math.sin(math.degrees(45))*(2**(1/2))"
   ]
  },
  {
   "cell_type": "code",
   "execution_count": 24,
   "id": "d5d38393",
   "metadata": {},
   "outputs": [
    {
     "name": "stdout",
     "output_type": "stream",
     "text": [
      "Writing game.py\n"
     ]
    }
   ],
   "source": [
    "%%writefile game.py\n",
    "# 실습 2-4\n",
    "import random\n",
    "\n",
    "arr = ['가위', '바위', '보']\n",
    "\n",
    "choice = input(\"가위, 바위, 보 중 하나를 선택하시오: \")\n",
    "print(\"플레이어:\", choice)\n",
    "\n",
    "computer_choice = arr[random.randint(0,2)]\n",
    "print(\"컴퓨터:\", computer_choice)\n",
    "\n",
    "if choice == computer_choice:\n",
    "    print(\"비겼습니다.\")\n",
    "\n",
    "elif choice == '가위' and computer_choice == '보':\n",
    "    print(\"당신이 이겼습니다.\")\n",
    "    \n",
    "elif chioce == '가위' and computer_choice == '바위':\n",
    "    print(\"컴퓨터가 이겼습니다.\")\n",
    "    \n",
    "elif choice == '바위' and computer_choice == '가위':\n",
    "    print(\"당신이 이겼습니다.\")\n",
    "    \n",
    "elif chioce == '바위' and computer_choice == '보':\n",
    "    print(\"컴퓨터가 이겼습니다.\")\n",
    "    \n",
    "elif choice == '보' and computer_choice == '바위':\n",
    "    print(\"당신이 이겼습니다.\")\n",
    "    \n",
    "elif chioce == '보' and computer_choice == '가위':\n",
    "    print(\"컴퓨터가 이겼습니다.\")"
   ]
  },
  {
   "cell_type": "code",
   "execution_count": 25,
   "id": "b53c2e5d",
   "metadata": {},
   "outputs": [
    {
     "name": "stdout",
     "output_type": "stream",
     "text": [
      "가위, 바위, 보 중 하나를 선택하시오: 가위\n",
      "플레이어: 가위\n",
      "컴퓨터: 보\n",
      "당신이 이겼습니다.\n"
     ]
    }
   ],
   "source": [
    "%run game.py"
   ]
  },
  {
   "cell_type": "code",
   "execution_count": 26,
   "id": "1a5a34a4",
   "metadata": {},
   "outputs": [
    {
     "name": "stdout",
     "output_type": "stream",
     "text": [
      "가위, 바위, 보 중 하나를 선택하시오: 바위\n",
      "플레이어: 바위\n",
      "컴퓨터: 바위\n",
      "비겼습니다.\n"
     ]
    }
   ],
   "source": [
    "%run game.py"
   ]
  },
  {
   "cell_type": "code",
   "execution_count": 27,
   "id": "ef90776f",
   "metadata": {},
   "outputs": [
    {
     "name": "stdout",
     "output_type": "stream",
     "text": [
      "가위, 바위, 보 중 하나를 선택하시오: 보\n",
      "플레이어: 보\n",
      "컴퓨터: 보\n",
      "비겼습니다.\n"
     ]
    }
   ],
   "source": [
    "%run game.py"
   ]
  },
  {
   "cell_type": "code",
   "execution_count": null,
   "id": "6c82cae2",
   "metadata": {},
   "outputs": [],
   "source": []
  }
 ],
 "metadata": {
  "kernelspec": {
   "display_name": "Python 3 (ipykernel)",
   "language": "python",
   "name": "python3"
  },
  "language_info": {
   "codemirror_mode": {
    "name": "ipython",
    "version": 3
   },
   "file_extension": ".py",
   "mimetype": "text/x-python",
   "name": "python",
   "nbconvert_exporter": "python",
   "pygments_lexer": "ipython3",
   "version": "3.9.7"
  }
 },
 "nbformat": 4,
 "nbformat_minor": 5
}
