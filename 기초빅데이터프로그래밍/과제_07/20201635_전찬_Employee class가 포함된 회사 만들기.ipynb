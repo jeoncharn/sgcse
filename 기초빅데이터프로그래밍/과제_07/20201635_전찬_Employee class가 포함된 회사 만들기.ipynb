{
 "cells": [
  {
   "cell_type": "code",
   "execution_count": 33,
   "id": "abb0f7e6",
   "metadata": {},
   "outputs": [],
   "source": [
    "#Person class 이다.\n",
    "class Person:\n",
    "    def __init__(self, name, age, gender):\n",
    "        self.Name = name\n",
    "        self.Age = age\n",
    "        self.Gender = gender\n",
    "    \n",
    "    def aboutMe(self):\n",
    "        print(\"이름:\", self.Name, \"나이:\", self.Age, \"성별:\", self.Gender)\n",
    "        \n",
    "        \n",
    "# Employee class 이다.\n",
    "# instance 변수에 추가로 Salary, 입사일, 퇴사한 경우 퇴사일이 들어가게 된다.\n",
    "class Employee(Person):\n",
    "    def __init__(self, name, age, gender, salary, *day):\n",
    "        Person.__init__(self, name, age, gender)\n",
    "        self.Salary = salary\n",
    "        \n",
    "        self.StartDay = day[0]\n",
    "        if len(day) == 1:\n",
    "            self.EndDay = \".\"\n",
    "        else:\n",
    "            self.EndDay = day[1]\n",
    "            \n",
    "    \n",
    "    def month_salary(self):\n",
    "        return self.Salary + \"원\"\n",
    "    \n",
    "    def year_salary(self):\n",
    "        return str(int(self.Salary)*12) + \"원\"\n",
    "    \n",
    "    def aboutMe(self):\n",
    "        Person.aboutMe(self)\n",
    "        print(\"월급:\", self.Salary+\"원\", \"입사일:\", self.StartDay, \"퇴사일:\", self.EndDay)\n",
    "\n",
    "\n",
    "# Manager class 이다.\n",
    "class Manager(Employee):\n",
    "\n",
    "    #퇴사한 직원 처리하기\n",
    "    @staticmethod\n",
    "    def input_endday(employee, endday):\n",
    "        if employee.EndDay != \".\":\n",
    "            print(\"이 직원은 이미 퇴사했습니다.\")\n",
    "        else:\n",
    "            employee.EndDay = endday\n",
    "            print(\"퇴사한 직원의 퇴사일을 입력했습니다.\")\n",
    "        \n",
    "    # 월급 변경하기\n",
    "    def change_salary(self, employee, new_salary):\n",
    "        employee.Salary = new_salary\n",
    "        print(self.Name+\"이\", employee.Name+\"의 월급을 변경했습니다.\")\n",
    "        \n",
    "        \n",
    "    #Manager가 Staff에게 새로운 업무 주기\n",
    "    def new_job(self, staff, new_job):\n",
    "        \n",
    "        #Staff class이면 새로운 일을 할당해 준다.\n",
    "        if isinstance(staff, Staff):\n",
    "            staff.Job = new_job\n",
    "            print(self.Name+\"이\", staff.Name+\"에게 새로운 업무를 할당했습니다.\")\n",
    "        else:\n",
    "            print(\"이 직원은 Staff가 아닙니다.\")\n",
    "\n",
    "\n",
    "#Staff class 이다.\n",
    "class Staff(Employee):\n",
    "    #instance 변수에 추가로 현재 진행중인 job을 저장하는 Job 변수를 추가한다.\n",
    "    def __init__(self, name, age, gender, salary, current_job, *day):\n",
    "        Employee.__init__(self, name, age, gender, salary, *day)\n",
    "        self.Job = current_job\n",
    "    \n",
    "    # aboutMe()에 현재 수행중인 업무도 print할 수 있도록 설정한다.\n",
    "    def aboutMe(self):\n",
    "        Employee.aboutMe(self)\n",
    "        print(\"현재 수행중인 업무:\", self.Job)\n",
    "        \n",
    "#Hourly class 이다.\n",
    "class Hourly(Employee):\n",
    "    \n",
    "    def aboutMe(self):\n",
    "        Employee.aboutMe(self)\n",
    "        #self.salary를 기준으로 시급을 계산한다. 20일, 9시간 노동을 기준으로 한다.\n",
    "        print(\"시급:\", str(int(int(self.Salary)/(20*9)))+\"원\")"
   ]
  },
  {
   "cell_type": "code",
   "execution_count": 27,
   "id": "841ca584",
   "metadata": {},
   "outputs": [
    {
     "name": "stdout",
     "output_type": "stream",
     "text": [
      "이름: 전찬 나이: 22 성별: 남자\n"
     ]
    }
   ],
   "source": [
    "person1 = Person(\"전찬\", \"22\", \"남자\")\n",
    "person1.aboutMe()"
   ]
  },
  {
   "cell_type": "code",
   "execution_count": 28,
   "id": "07d0a332",
   "metadata": {},
   "outputs": [
    {
     "name": "stdout",
     "output_type": "stream",
     "text": [
      "이름: 전찬 나이: 22 성별: 남자\n",
      "월급: 3000000원 입사일: 2016.12.3 퇴사일: 2017.3.5\n"
     ]
    },
    {
     "data": {
      "text/plain": [
       "'36000000원'"
      ]
     },
     "execution_count": 28,
     "metadata": {},
     "output_type": "execute_result"
    }
   ],
   "source": [
    "employee1 = Employee(\"전찬\", \"22\", \"남자\", \"3000000\", \"2016.12.3\", \"2017.3.5\")\n",
    "employee1.aboutMe()\n",
    "employee1.year_salary()"
   ]
  },
  {
   "cell_type": "code",
   "execution_count": 35,
   "id": "1be9edda",
   "metadata": {},
   "outputs": [
    {
     "name": "stdout",
     "output_type": "stream",
     "text": [
      "이름: 전성경 나이: 24 성별: 여자\n",
      "월급: 5000000원 입사일: 2018.12.3 퇴사일: .\n",
      "60000000원\n",
      "전성경이 전찬의 월급을 변경했습니다.\n",
      "이 직원은 이미 퇴사했습니다.\n",
      "퇴사한 직원의 퇴사일을 입력했습니다.\n"
     ]
    }
   ],
   "source": [
    "manager1 = Manager(\"전성경\", \"24\", \"여자\", \"5000000\", \"2018.12.3\")\n",
    "manager1.aboutMe()\n",
    "print(manager1.year_salary())\n",
    "\n",
    "manager1.change_salary(employee1, \"3500000\")\n",
    "Manager.input_endday(employee1, \"2022.4.11\")\n",
    "Manager.input_endday(manager1, \"2022.4.11\")"
   ]
  },
  {
   "cell_type": "code",
   "execution_count": 38,
   "id": "e85a7e07",
   "metadata": {},
   "outputs": [
    {
     "name": "stdout",
     "output_type": "stream",
     "text": [
      "이름: 홍길동 나이: 27 성별: 남자\n",
      "월급: 6000000원 입사일: 2018.12.3 퇴사일: .\n",
      "현재 수행중인 업무: data crawling\n",
      "\n",
      "전성경이 홍길동의 월급을 변경했습니다.\n",
      "전성경이 홍길동에게 새로운 업무를 할당했습니다.\n",
      "\n",
      "이름: 홍길동 나이: 27 성별: 남자\n",
      "월급: 7000000원 입사일: 2018.12.3 퇴사일: .\n",
      "현재 수행중인 업무: develop program\n",
      "\n",
      "이 직원은 Staff가 아닙니다.\n"
     ]
    }
   ],
   "source": [
    "staff1 = Staff(\"홍길동\", \"27\", \"남자\", \"6000000\", \"data crawling\", \"2018.12.3\")\n",
    "staff1.aboutMe()\n",
    "print()\n",
    "manager1.change_salary(staff1, \"7000000\")\n",
    "manager1.new_job(staff1, \"develop program\")\n",
    "print()\n",
    "staff1.aboutMe()\n",
    "print()\n",
    "manager1.new_job(manager1, \"some work....\")"
   ]
  },
  {
   "cell_type": "code",
   "execution_count": 34,
   "id": "405f0e66",
   "metadata": {},
   "outputs": [
    {
     "name": "stdout",
     "output_type": "stream",
     "text": [
      "이름: 김준영 나이: 23 성별: 여자\n",
      "월급: 5000000원 입사일: 2019.1.13 퇴사일: 2021.3.14\n",
      "시급: 27777원\n"
     ]
    }
   ],
   "source": [
    "hourly1 = Hourly(\"김준영\", \"23\", \"여자\", \"5000000\", \"2019.1.13\", \"2021.3.14\")\n",
    "hourly1.aboutMe()"
   ]
  },
  {
   "cell_type": "code",
   "execution_count": null,
   "id": "6e25481b",
   "metadata": {},
   "outputs": [],
   "source": []
  },
  {
   "cell_type": "code",
   "execution_count": null,
   "id": "08f9380f",
   "metadata": {},
   "outputs": [],
   "source": []
  }
 ],
 "metadata": {
  "kernelspec": {
   "display_name": "Python 3 (ipykernel)",
   "language": "python",
   "name": "python3"
  },
  "language_info": {
   "codemirror_mode": {
    "name": "ipython",
    "version": 3
   },
   "file_extension": ".py",
   "mimetype": "text/x-python",
   "name": "python",
   "nbconvert_exporter": "python",
   "pygments_lexer": "ipython3",
   "version": "3.9.7"
  }
 },
 "nbformat": 4,
 "nbformat_minor": 5
}
