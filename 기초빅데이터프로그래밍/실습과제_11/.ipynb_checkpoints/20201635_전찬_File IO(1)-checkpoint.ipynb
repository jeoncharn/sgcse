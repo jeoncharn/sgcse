{
 "cells": [
  {
   "cell_type": "code",
   "execution_count": 8,
   "id": "477c19f0",
   "metadata": {},
   "outputs": [],
   "source": [
    "string = '''2 Alice Paul David Bob\n",
    "4 Cindy Stella Bill\n",
    "1 Henry Jenny Jessica Erin Tim\n",
    "3 John Joe Tom'''\n",
    "\n",
    "#입력파일 제작\n",
    "with open(\"ban_stu.txt\", \"w\") as f:\n",
    "    f.write(string)\n",
    "\n",
    "#파일을 읽어서 dict 형태로 저장\n",
    "file = open(\"ban_stu.txt\", \"r\")\n",
    "data = file.readlines()\n",
    "dict = {int(i.split(\" \", 1)[0]):i.split(\" \", 1)[1].strip() for i in data}\n",
    "file.close()"
   ]
  }
 ],
 "metadata": {
  "kernelspec": {
   "display_name": "Python 3 (ipykernel)",
   "language": "python",
   "name": "python3"
  },
  "language_info": {
   "codemirror_mode": {
    "name": "ipython",
    "version": 3
   },
   "file_extension": ".py",
   "mimetype": "text/x-python",
   "name": "python",
   "nbconvert_exporter": "python",
   "pygments_lexer": "ipython3",
   "version": "3.9.7"
  }
 },
 "nbformat": 4,
 "nbformat_minor": 5
}
