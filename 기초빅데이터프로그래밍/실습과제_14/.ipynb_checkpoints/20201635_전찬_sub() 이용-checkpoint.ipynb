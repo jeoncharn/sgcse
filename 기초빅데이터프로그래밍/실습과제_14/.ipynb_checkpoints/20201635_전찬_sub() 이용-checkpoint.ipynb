{
 "cells": [
  {
   "cell_type": "code",
   "execution_count": 1,
   "id": "5b1e99b2",
   "metadata": {},
   "outputs": [],
   "source": [
    "string = \"Please, square the following numbers, 3 7 11 13 17 19\""
   ]
  },
  {
   "cell_type": "code",
   "execution_count": 12,
   "id": "b317e9ed",
   "metadata": {},
   "outputs": [
    {
     "name": "stdout",
     "output_type": "stream",
     "text": [
      "Please, square the following numbers, 9 49 121 169 289 361\n"
     ]
    }
   ],
   "source": [
    "import re\n",
    "square_string = re.sub(\"\\d+\", lambda x:str(int(x.group())**2), string)\n",
    "print(square_string)"
   ]
  }
 ],
 "metadata": {
  "kernelspec": {
   "display_name": "Python 3 (ipykernel)",
   "language": "python",
   "name": "python3"
  },
  "language_info": {
   "codemirror_mode": {
    "name": "ipython",
    "version": 3
   },
   "file_extension": ".py",
   "mimetype": "text/x-python",
   "name": "python",
   "nbconvert_exporter": "python",
   "pygments_lexer": "ipython3",
   "version": "3.9.7"
  }
 },
 "nbformat": 4,
 "nbformat_minor": 5
}
