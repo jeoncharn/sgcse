{
 "cells": [
  {
   "cell_type": "code",
   "execution_count": 4,
   "id": "c97bdbe8",
   "metadata": {},
   "outputs": [
    {
     "name": "stdout",
     "output_type": "stream",
     "text": [
      "Overwriting fibonacci.py\n"
     ]
    }
   ],
   "source": [
    "%%writefile fibonacci.py\n",
    "#loop를 통해 피보나치 수를 구하는 함수이다.\n",
    "def fibo(num):\n",
    "    #n = 2일 때,  fibo(n) = 1, fibo(n-1) = 1을 저장한다.\n",
    "    fibo_n = 1\n",
    "    fibo_n_1 = 1\n",
    "    \n",
    "    #input이 1, 0인 경우 num을 return 해준다.\n",
    "    if num<=1:\n",
    "        return num\n",
    "    \n",
    "    #input이 2 이상인 경우, loop를 통해 fibo_n의 값을 구해준다.\n",
    "    #이때 a, b = b, a 형식의 할당문을 사용한다.\n",
    "    else:\n",
    "        for i in range(num-2):\n",
    "            fibo_n, fibo_n_1 = fibo_n + fibo_n_1, fibo_n\n",
    "        \n",
    "        return fibo_n\n",
    "\n",
    "# %run 을 통해 실행한 경우, 바로 함수가 실행되도록, import하는 경우 실행되지 않도록 설정한다. \n",
    "if __name__ == \"__main__\":\n",
    "    num = int(input(\"input: \"))\n",
    "    print(fibo(num))"
   ]
  },
  {
   "cell_type": "code",
   "execution_count": null,
   "id": "daa11dd3",
   "metadata": {},
   "outputs": [],
   "source": [
    "%run fibonacci.py"
   ]
  },
  {
   "cell_type": "code",
   "execution_count": 7,
   "id": "9c3c860b",
   "metadata": {},
   "outputs": [
    {
     "name": "stdout",
     "output_type": "stream",
     "text": [
      "1.83 µs ± 91.4 ns per loop (mean ± std. dev. of 7 runs, 1000000 loops each)\n"
     ]
    }
   ],
   "source": [
    "%%timeit\n",
    "#loop로 구현한 fibo 함수를 import해서 실행하는 데에 걸리는 시간\n",
    "import fibonacci\n",
    "fibonacci.fibo(30)"
   ]
  },
  {
   "cell_type": "code",
   "execution_count": null,
   "id": "15812526",
   "metadata": {},
   "outputs": [],
   "source": []
  }
 ],
 "metadata": {
  "kernelspec": {
   "display_name": "Python 3 (ipykernel)",
   "language": "python",
   "name": "python3"
  },
  "language_info": {
   "codemirror_mode": {
    "name": "ipython",
    "version": 3
   },
   "file_extension": ".py",
   "mimetype": "text/x-python",
   "name": "python",
   "nbconvert_exporter": "python",
   "pygments_lexer": "ipython3",
   "version": "3.9.7"
  }
 },
 "nbformat": 4,
 "nbformat_minor": 5
}
