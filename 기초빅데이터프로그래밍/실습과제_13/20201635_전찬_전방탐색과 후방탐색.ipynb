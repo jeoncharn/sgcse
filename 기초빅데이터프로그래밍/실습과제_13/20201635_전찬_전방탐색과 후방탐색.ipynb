{
 "cells": [
  {
   "cell_type": "code",
   "execution_count": 90,
   "id": "06e632e8",
   "metadata": {},
   "outputs": [],
   "source": [
    "#실습 1\n",
    "string1 = \"\"\"\n",
    "<HEAD>\n",
    "<TITLE>Seo Maria's Homepage</TITLE>\n",
    "</HEAD>\"\"\""
   ]
  },
  {
   "cell_type": "code",
   "execution_count": 91,
   "id": "91473e03",
   "metadata": {},
   "outputs": [
    {
     "name": "stdout",
     "output_type": "stream",
     "text": [
      "Seo Maria's Homepage\n"
     ]
    }
   ],
   "source": [
    "import re\n",
    "# re.I(ignorecase) 를 통해 다양한 형식의 title을 판단 가능\n",
    "title_name1 = re.search(\"(?<=<title>).*\", string1, re.I).group()\n",
    "title_name2 = re.search(\".*(?=</title>)\", title_name1, re.I).group()\n",
    "\n",
    "print(title_name2)"
   ]
  },
  {
   "cell_type": "code",
   "execution_count": 92,
   "id": "140dea81",
   "metadata": {},
   "outputs": [],
   "source": [
    "#실습 2\n",
    "string2 = \"foo.bar, autoexec.bat, sendmail.cf, checksum.exe\""
   ]
  },
  {
   "cell_type": "code",
   "execution_count": 98,
   "id": "a63be4e3",
   "metadata": {},
   "outputs": [
    {
     "name": "stdout",
     "output_type": "stream",
     "text": [
      "['foo.bar', 'sendmail.cf', 'checksum.exe']\n"
     ]
    }
   ],
   "source": [
    "import re\n",
    "filename = string2.split(\", \")\n",
    "filename1 = [i for i in filename if re.search(\"(?<=\\.).*\", i).group() != \"bat\"]\n",
    "print(filename1)"
   ]
  },
  {
   "cell_type": "code",
   "execution_count": 99,
   "id": "f5a5778b",
   "metadata": {},
   "outputs": [
    {
     "name": "stdout",
     "output_type": "stream",
     "text": [
      "['foo.bar', 'sendmail.cf']\n"
     ]
    }
   ],
   "source": [
    "filename2 = [i for i in filename1 if re.search(\"(?<=\\.).*\", i).group() != \"exe\"]\n",
    "print(filename2)"
   ]
  }
 ],
 "metadata": {
  "kernelspec": {
   "display_name": "Python 3 (ipykernel)",
   "language": "python",
   "name": "python3"
  },
  "language_info": {
   "codemirror_mode": {
    "name": "ipython",
    "version": 3
   },
   "file_extension": ".py",
   "mimetype": "text/x-python",
   "name": "python",
   "nbconvert_exporter": "python",
   "pygments_lexer": "ipython3",
   "version": "3.9.7"
  }
 },
 "nbformat": 4,
 "nbformat_minor": 5
}
