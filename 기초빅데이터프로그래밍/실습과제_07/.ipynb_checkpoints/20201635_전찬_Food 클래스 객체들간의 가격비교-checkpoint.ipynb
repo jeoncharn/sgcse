{
 "cells": [
  {
   "cell_type": "code",
   "execution_count": 1,
   "id": "6bae4271",
   "metadata": {},
   "outputs": [],
   "source": [
    "class Food(object):\n",
    "    def __init__(self, name, price):\n",
    "        self.name = name\n",
    "        self.price = price\n",
    "\n",
    "    # < 비교를 수행하는 부분이다.\n",
    "    def __lt__(self, other):\n",
    "        if self.price < other.price:\n",
    "            return True\n",
    "        else:\n",
    "            return False\n",
    "    \n",
    "    # + 연산을 수행하는 부분이다.\n",
    "    def __add__(self, other):\n",
    "        return self.price + other.price"
   ]
  },
  {
   "cell_type": "code",
   "execution_count": 2,
   "id": "a38afda4",
   "metadata": {},
   "outputs": [
    {
     "name": "stdout",
     "output_type": "stream",
     "text": [
      "True\n",
      "8000\n"
     ]
    }
   ],
   "source": [
    "food_1 = Food(\"아이스크림\", 3000)\n",
    "food_2 = Food(\"햄버거\", 5000)\n",
    "print(food_1 < food_2)\n",
    "print(food_1 + food_2)"
   ]
  },
  {
   "cell_type": "code",
   "execution_count": null,
   "id": "614e053a",
   "metadata": {},
   "outputs": [],
   "source": []
  }
 ],
 "metadata": {
  "kernelspec": {
   "display_name": "Python 3 (ipykernel)",
   "language": "python",
   "name": "python3"
  },
  "language_info": {
   "codemirror_mode": {
    "name": "ipython",
    "version": 3
   },
   "file_extension": ".py",
   "mimetype": "text/x-python",
   "name": "python",
   "nbconvert_exporter": "python",
   "pygments_lexer": "ipython3",
   "version": "3.9.7"
  }
 },
 "nbformat": 4,
 "nbformat_minor": 5
}
