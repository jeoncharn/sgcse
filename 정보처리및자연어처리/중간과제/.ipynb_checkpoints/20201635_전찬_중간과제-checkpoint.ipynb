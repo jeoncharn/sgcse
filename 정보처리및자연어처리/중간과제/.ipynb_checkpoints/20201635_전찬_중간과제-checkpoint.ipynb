{
 "cells": [
  {
   "cell_type": "code",
   "execution_count": 1,
   "id": "1ba0b933",
   "metadata": {},
   "outputs": [],
   "source": [
    "# 1번\n",
    "import os\n",
    "import nltk\n",
    "import re\n",
    "\n",
    "os.makedirs(\"./Q1_Out\", exist_ok = True)\n",
    "\n",
    "# 문제 풀이\n",
    "corpusdata = nltk.corpus.PlaintextCorpusReader(\"./Q1\", '.*')\n",
    "extract_data = {\"./Q1_Out/\"+i.rstrip(\".txt\") + \"_morph.txt\" : re.findall(\".+-\\d+\\t.+\\t(.+)\", corpusdata.raw(i)) for i in corpusdata.fileids()}\n",
    "for i in extract_data.keys():\n",
    "    with open(i, 'w', encoding = 'utf8') as file:\n",
    "        file.write('\\n'.join(extract_data[i]))"
   ]
  },
  {
   "cell_type": "code",
   "execution_count": 3,
   "id": "7d5e6e4e",
   "metadata": {},
   "outputs": [],
   "source": [
    "# 2번\n",
    "import os\n",
    "import nltk\n",
    "import re\n",
    "from nltk.corpus.reader.plaintext import CategorizedPlaintextCorpusReader\n",
    "\n",
    "# 문제 풀이\n",
    "corpus = CategorizedPlaintextCorpusReader(\"./Q2\", '.*', cat_pattern = '\\w\\w(\\w).+', encoding = 'utf8')"
   ]
  },
  {
   "cell_type": "code",
   "execution_count": 7,
   "id": "96265da5",
   "metadata": {},
   "outputs": [
    {
     "name": "stdout",
     "output_type": "stream",
     "text": [
      "28722\n",
      "\n",
      "Displaying 10 of 89 matches:\n",
      " 나/NP 의/JKG 유럽/NNP 여행/NNG 여행기/NNG 를/JKO 적/\n",
      " ./SF 그러나/MAJ 불행/NNG 하/XSA 게/EC 도/JX 나/NP 에게/JKB 는/JX 그렇/VA ㄹ/ETM 만/NNB 하/XSA \n",
      " 은/JX 낯설/VA ㄴ/ETM 손/NNG 님/XSN 처럼/JKB 나/NP 를/JKO 맞/VV 는다/EF ./SF 1/SN 월/NNB 6/S\n",
      "ㄴ/ETM 뒷맛/NNG 이/JKS 그때/NNG 까지/JX 도/JX 나/NP 를/JKO 붙잡/VV 고/EC 놓/VV 아/EC 주/VX 지/EC\n",
      "CP 오/EF ?/SF 되바라지/VV 게/EC 묻/VV 는/ETM 나/NP 의/JKG 의아/NNG 하/XSA ㄴ/ETM 시선/NNG 에/JK\n",
      " 는/ETM 이런/MM 성황/NNG 을/JKO 보/VV 는/ETM 나/NP 의/JKG 부럽/VA ㅁ/ETN 섞이/VV ㄴ/ETM 시선/NNG\n",
      "/MM 박물관/NNG 을/JKO 보/VV ㄴ다면/EC 아마/MAG 나/NP 보다/JKB 는/JX 훨씬/MAG 더/MAG 분노/NNG 하/XS\n",
      "는/ETM 고정석/NNG 을/JKO 보/VV 았/EP 다는데/EC 나/NP 는/JX 그것/NP 까지/JX 는/JX 보/VV 지/EC 못하/V\n",
      "듯/XR 하/XSA ㄴ/ETM 일정/NNG 때문/NNB 에/JKB 나/NP 는/JX 가/VV 지/EC 못하/VX 았/EP 으나/EC 역시/M\n",
      "/ETM 이야기/NNG 이/VCP 지만/EC ,/SP 결국/NNG 나/NP 는/JX 무덤/NNG 에/JKB 는/JX 가/VV 지/EC 못하/\n",
      "\n",
      "./sf_의/jkg ./sf_는/jx\n",
      "\n",
      "그/np 로마/nnp 고흐/nnp 안네/nnp 이탈리아/nnp 그녀/np 여행자/nng 미켈란젤로/nnp 런던/nnp\n",
      "파리/nnp 브뤼헤/nnp 과거/nng 남/nng 헝가리/nnp 베니스/nnp 유럽/nnp 여행/nng 것/nnb 규모/nng\n",
      "대부분/nng\n"
     ]
    }
   ],
   "source": [
    "# 3번\n",
    "import os\n",
    "import nltk\n",
    "import re\n",
    "\n",
    "# 문제 풀이\n",
    "Genre = nltk.Text(re.findall(\"[^ \\r\\n^+]+/\\w+\", corpus.raw(categories = 'J')))\n",
    "\n",
    "# 결과 확인\n",
    "print(len(Genre))\n",
    "print()\n",
    "Genre.concordance(\"나/NP\", lines = 10)\n",
    "print()\n",
    "Genre.common_contexts([\"나/NP\", \"그/NP\", \"그녀/NP\"])\n",
    "print()\n",
    "Genre.similar(\"나/NP\")"
   ]
  },
  {
   "cell_type": "code",
   "execution_count": 8,
   "id": "20044c62",
   "metadata": {},
   "outputs": [
    {
     "name": "stdout",
     "output_type": "stream",
     "text": [
      "     NNG    NNP     NP \n",
      "A 217846  27852   5063 \n",
      "B  79813   8811   3733 \n",
      "D  19183   2009    266 \n",
      "E 135253  11762  20482 \n",
      "G  44385   3807   3691 \n",
      "H 525668  44177  23956 \n",
      "J   5674    882    343 \n"
     ]
    }
   ],
   "source": [
    "# 4번\n",
    "\n",
    "#문제 풀이\n",
    "Freq1 = nltk.ConditionalFreqDist((cate, word.rsplit('/',1)[1])\n",
    "                                 for cate in corpus.categories()\n",
    "                                 for word in re.findall(\"[^ \\r\\n^+]+/\\w+\", corpus.raw(categories = cate))\n",
    "                                )\n",
    "\n",
    "# 결과 확인\n",
    "Freq1.tabulate(conditions = list(Freq1.keys()), samples = ['NNG', 'NNP', 'NP'])"
   ]
  },
  {
   "cell_type": "code",
   "execution_count": 9,
   "id": "a584b26a",
   "metadata": {},
   "outputs": [],
   "source": [
    "# 5번\n",
    "\n",
    "#문제 풀이\n",
    "with open(\"./Q5_out.txt\", 'w', encoding = 'utf8') as file:\n",
    "    file.write(\"장르\\t태그\\t상대빈도\\n\")\n",
    "    for i in Freq1.keys():\n",
    "        for j in sorted(Freq1[i].items(), key = lambda item : item[1], reverse = True):\n",
    "            file.write(i+\"\\t\"+j[0]+\"\\t\"+f\"{round(j[1]/sum(Freq1[i].values()), 6)}\"+\"\\n\")"
   ]
  }
 ],
 "metadata": {
  "kernelspec": {
   "display_name": "Python 3 (ipykernel)",
   "language": "python",
   "name": "python3"
  },
  "language_info": {
   "codemirror_mode": {
    "name": "ipython",
    "version": 3
   },
   "file_extension": ".py",
   "mimetype": "text/x-python",
   "name": "python",
   "nbconvert_exporter": "python",
   "pygments_lexer": "ipython3",
   "version": "3.9.7"
  }
 },
 "nbformat": 4,
 "nbformat_minor": 5
}
