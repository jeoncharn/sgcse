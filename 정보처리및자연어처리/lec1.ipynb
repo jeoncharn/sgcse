{
 "cells": [
  {
   "cell_type": "code",
   "execution_count": 4,
   "id": "43ea3838",
   "metadata": {},
   "outputs": [
    {
     "data": {
      "text/plain": [
       "13"
      ]
     },
     "execution_count": 4,
     "metadata": {},
     "output_type": "execute_result"
    }
   ],
   "source": [
    "13"
   ]
  },
  {
   "cell_type": "code",
   "execution_count": 5,
   "id": "785c99d6",
   "metadata": {},
   "outputs": [
    {
     "data": {
      "text/plain": [
       "str"
      ]
     },
     "execution_count": 5,
     "metadata": {},
     "output_type": "execute_result"
    }
   ],
   "source": [
    "type(\"13\")"
   ]
  },
  {
   "cell_type": "code",
   "execution_count": 6,
   "id": "0ed45afa",
   "metadata": {},
   "outputs": [
    {
     "data": {
      "text/plain": [
       "bool"
      ]
     },
     "execution_count": 6,
     "metadata": {},
     "output_type": "execute_result"
    }
   ],
   "source": [
    "type(True)"
   ]
  },
  {
   "cell_type": "code",
   "execution_count": 7,
   "id": "7aec1dc1",
   "metadata": {},
   "outputs": [
    {
     "data": {
      "text/plain": [
       "list"
      ]
     },
     "execution_count": 7,
     "metadata": {},
     "output_type": "execute_result"
    }
   ],
   "source": [
    "type([1,2,3,4])"
   ]
  },
  {
   "cell_type": "code",
   "execution_count": 8,
   "id": "1bbe48ae",
   "metadata": {},
   "outputs": [
    {
     "data": {
      "text/plain": [
       "tuple"
      ]
     },
     "execution_count": 8,
     "metadata": {},
     "output_type": "execute_result"
    }
   ],
   "source": [
    "type((1,2,3,4))"
   ]
  },
  {
   "cell_type": "markdown",
   "id": "cf16e2da",
   "metadata": {},
   "source": []
  },
  {
   "cell_type": "code",
   "execution_count": 9,
   "id": "5ff986c0",
   "metadata": {},
   "outputs": [],
   "source": [
    "score = [95, 100, 33, 4, 95, 77, 35]"
   ]
  },
  {
   "cell_type": "code",
   "execution_count": 10,
   "id": "765df554",
   "metadata": {},
   "outputs": [
    {
     "name": "stdout",
     "output_type": "stream",
     "text": [
      "70이상\n",
      "70이상\n",
      "망함\n",
      "망함\n",
      "70이상\n",
      "70이상\n",
      "망함\n"
     ]
    }
   ],
   "source": [
    "for i in score:\n",
    "    if i >= 70:\n",
    "        print(\"70이상\")\n",
    "    else:\n",
    "        print(\"망함\")"
   ]
  },
  {
   "cell_type": "code",
   "execution_count": 12,
   "id": "abdec5e7",
   "metadata": {},
   "outputs": [
    {
     "data": {
      "text/plain": [
       "{'a': 'b', 'c': 'd'}"
      ]
     },
     "execution_count": 12,
     "metadata": {},
     "output_type": "execute_result"
    }
   ],
   "source": [
    "dict([['a', 'b'], ['c','d']])"
   ]
  },
  {
   "cell_type": "code",
   "execution_count": null,
   "id": "453ecc9c",
   "metadata": {},
   "outputs": [],
   "source": []
  }
 ],
 "metadata": {
  "kernelspec": {
   "display_name": "Python 3 (ipykernel)",
   "language": "python",
   "name": "python3"
  },
  "language_info": {
   "codemirror_mode": {
    "name": "ipython",
    "version": 3
   },
   "file_extension": ".py",
   "mimetype": "text/x-python",
   "name": "python",
   "nbconvert_exporter": "python",
   "pygments_lexer": "ipython3",
   "version": "3.9.7"
  }
 },
 "nbformat": 4,
 "nbformat_minor": 5
}
