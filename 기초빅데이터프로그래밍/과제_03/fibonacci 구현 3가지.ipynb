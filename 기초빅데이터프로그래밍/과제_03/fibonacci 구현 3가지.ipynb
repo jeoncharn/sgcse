{
 "cells": [
  {
   "cell_type": "code",
   "execution_count": 1,
   "id": "24988162",
   "metadata": {},
   "outputs": [
    {
     "name": "stdout",
     "output_type": "stream",
     "text": [
      "Writing fibo_all.py\n"
     ]
    }
   ],
   "source": [
    "%%writefile fibo_all.py\n",
    "# 간단한 방법 (재귀함수를 통해서 간단하게 구현할 수 있다.)\n",
    "def fibo_1(num):\n",
    "    if num<=1:\n",
    "        return num\n",
    "    else:\n",
    "        return fibo_1(num-1) + fibo_1(num-2)\n",
    "    \n",
    "    \n",
    "# loop를 이용한 방법 (피보나치 수를 구하는 데에 걸리는 시간을 줄여준다.)\n",
    "def fibo_2(num):\n",
    "    fibo_n = 1\n",
    "    fibo_n_1 = 1\n",
    "    if num<=1:\n",
    "        return num\n",
    "    else:\n",
    "        for i in range(num-2):\n",
    "            fibo_n, fibo_n_1 = fibo_n + fibo_n_1, fibo_n\n",
    "        \n",
    "        return fibo_n\n",
    "\n",
    "# Dynamic programming을 이용한 방법 (이미 구한 값을 저장해서 다음 호출에서 사용한다.)\n",
    "def fibonacci_recursive(num):\n",
    "    #아직 fibonacci(num)을 구하지 않은 경우, 구한 이후 fibo_data[num]에 저장한다.\n",
    "    if fibo_data[num] == -1:\n",
    "        fibo_data[num] = fibonacci_recursive(num-1) + fibonacci_recursive(num-2)\n",
    "    \n",
    "    return fibo_data[num]\n",
    "\n",
    "def fibo_3(num):\n",
    "    if num<=1:\n",
    "        return num\n",
    "    \n",
    "    global fibo_data\n",
    "    fibo_data = [-1 for i in range(0, num + 1)]\n",
    "    fibo_data[0] = 0\n",
    "    fibo_data[1] = 1\n",
    "    \n",
    "    return fibonacci_recursive(num)"
   ]
  },
  {
   "cell_type": "code",
   "execution_count": 3,
   "id": "bf107657",
   "metadata": {},
   "outputs": [
    {
     "name": "stdout",
     "output_type": "stream",
     "text": [
      "293 ms ± 18.9 ms per loop (mean ± std. dev. of 7 runs, 1 loop each)\n"
     ]
    }
   ],
   "source": [
    "%%timeit\n",
    "\n",
    "import fibo_all\n",
    "#recursive function\n",
    "fibo_all.fibo_1(30)"
   ]
  },
  {
   "cell_type": "code",
   "execution_count": 4,
   "id": "cb7f9e37",
   "metadata": {},
   "outputs": [
    {
     "name": "stdout",
     "output_type": "stream",
     "text": [
      "1.9 µs ± 138 ns per loop (mean ± std. dev. of 7 runs, 1000000 loops each)\n"
     ]
    }
   ],
   "source": [
    "%%timeit\n",
    "\n",
    "import fibo_all\n",
    "#loop\n",
    "fibo_all.fibo_2(30)"
   ]
  },
  {
   "cell_type": "code",
   "execution_count": 5,
   "id": "9d80b234",
   "metadata": {},
   "outputs": [
    {
     "name": "stdout",
     "output_type": "stream",
     "text": [
      "12.8 µs ± 1.6 µs per loop (mean ± std. dev. of 7 runs, 10000 loops each)\n"
     ]
    }
   ],
   "source": [
    "%%timeit\n",
    "\n",
    "import fibo_all\n",
    "#dynamic programming\n",
    "fibo_all.fibo_3(30)"
   ]
  },
  {
   "cell_type": "code",
   "execution_count": null,
   "id": "c50ff20b",
   "metadata": {},
   "outputs": [],
   "source": []
  }
 ],
 "metadata": {
  "kernelspec": {
   "display_name": "Python 3 (ipykernel)",
   "language": "python",
   "name": "python3"
  },
  "language_info": {
   "codemirror_mode": {
    "name": "ipython",
    "version": 3
   },
   "file_extension": ".py",
   "mimetype": "text/x-python",
   "name": "python",
   "nbconvert_exporter": "python",
   "pygments_lexer": "ipython3",
   "version": "3.9.7"
  }
 },
 "nbformat": 4,
 "nbformat_minor": 5
}
