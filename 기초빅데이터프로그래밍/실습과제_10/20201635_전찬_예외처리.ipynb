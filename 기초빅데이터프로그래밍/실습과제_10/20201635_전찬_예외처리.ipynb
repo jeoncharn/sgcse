{
 "cells": [
  {
   "cell_type": "code",
   "execution_count": 6,
   "id": "540814f2",
   "metadata": {},
   "outputs": [
    {
     "name": "stdout",
     "output_type": "stream",
     "text": [
      "점수를 입력하세요: 103\n",
      "점수는 0점에서 100점 사이의 값이어야 합니다.\n"
     ]
    }
   ],
   "source": [
    "# 첫 번째 실습\n",
    "class ScoreError(Exception):\n",
    "    def __init__(self):\n",
    "        pass\n",
    "\n",
    "try:\n",
    "    score = int(input(\"점수를 입력하세요: \"))\n",
    "    if score > 100 or score < 0:\n",
    "        raise ScoreError\n",
    "    print(\"점수는\", str(score)+\"입니다.\")\n",
    "\n",
    "except ScoreError:\n",
    "    print(\"점수는 0점에서 100점 사이의 값이어야 합니다.\")"
   ]
  },
  {
   "cell_type": "code",
   "execution_count": 14,
   "id": "6659c46e",
   "metadata": {},
   "outputs": [
    {
     "name": "stdout",
     "output_type": "stream",
     "text": [
      "Overwriting list_index.py\n"
     ]
    }
   ],
   "source": [
    "%%writefile list_index.py\n",
    "# 두 번째 실습\n",
    "\n",
    "import sys\n",
    "\n",
    "num = list(range(0, 11))\n",
    "\n",
    "try:\n",
    "    while True:\n",
    "        index = int(input(\"Input index: \"))\n",
    "        if index >= len(num) or index < 0:\n",
    "            raise ValueError\n",
    "        print(num[index], \"의 값을 갖고 있습니다.\")\n",
    "\n",
    "except IndexError:\n",
    "    print(\"-1\")\n",
    "\n",
    "except ValueError:\n",
    "    print(\"프로그램을 종료합니다.\")\n",
    "    sys.exit()"
   ]
  },
  {
   "cell_type": "code",
   "execution_count": 17,
   "id": "8410061e",
   "metadata": {},
   "outputs": [
    {
     "name": "stdout",
     "output_type": "stream",
     "text": [
      "Input index: 0\n",
      "0 의 값을 갖고 있습니다.\n",
      "Input index: 8\n",
      "8 의 값을 갖고 있습니다.\n",
      "Input index: 13\n",
      "프로그램을 종료합니다.\n"
     ]
    }
   ],
   "source": [
    "%run list_index.py"
   ]
  },
  {
   "cell_type": "code",
   "execution_count": null,
   "id": "28eb5e55",
   "metadata": {},
   "outputs": [],
   "source": []
  }
 ],
 "metadata": {
  "kernelspec": {
   "display_name": "Python 3 (ipykernel)",
   "language": "python",
   "name": "python3"
  },
  "language_info": {
   "codemirror_mode": {
    "name": "ipython",
    "version": 3
   },
   "file_extension": ".py",
   "mimetype": "text/x-python",
   "name": "python",
   "nbconvert_exporter": "python",
   "pygments_lexer": "ipython3",
   "version": "3.9.7"
  }
 },
 "nbformat": 4,
 "nbformat_minor": 5
}
