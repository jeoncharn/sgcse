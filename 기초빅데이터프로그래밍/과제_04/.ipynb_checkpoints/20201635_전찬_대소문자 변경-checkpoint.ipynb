{
 "cells": [
  {
   "cell_type": "code",
   "execution_count": 55,
   "id": "22465c16",
   "metadata": {},
   "outputs": [],
   "source": [
    "%%writefile chan.py\n",
    "\n",
    "# string을 받아 각 문자의 개수를 count하는 함수이다.\n",
    "# 예시에서 모든 대문자도 소문자의 count로 취급하는 것을 바탕으로,\n",
    "# string.lower()을 바탕으로 dict type에 count를 저장한다.\n",
    "\n",
    "def count(string):\n",
    "    input_list = list(string.lower())\n",
    "    dict_count = {}\n",
    "    \n",
    "    for i in input_list:\n",
    "        #만약 이미 count되고 있다면 1을 추가한다.\n",
    "        if i in dict_count:\n",
    "            dict_count[i] += 1\n",
    "            \n",
    "        #원래 count되지 않은 문자라면, dict_count에 새로 대입한다.\n",
    "        else:\n",
    "            dict_count[i] = 1\n",
    "\n",
    "    for i in dict_count:\n",
    "        print(\"({char} : {count})  \".format(char = i, count = dict_count[i]), end = '')\n",
    "    print(\"\")\n",
    "\n",
    "# string을 받아, 대문자는 소문자로, 소문자는 대문자로 convert하는 함수이다.\n",
    "# string을 list로 변환한 이후, 각 원소가 소문자인지, 대문자인지에 따라 변환을 수행한다.\n",
    "\n",
    "def convert(string):\n",
    "    input_list = list(string)\n",
    "\n",
    "    for i in range(0, len(input_list)):\n",
    "        #만약 원소가 대문자인 경우, 소문자로 변환한 이후 list에 저장한다.\n",
    "        if input_list[i].isupper():\n",
    "            input_list[i] = input_list[i].lower()\n",
    "        \n",
    "        #소문자인 경우, 대문자로 저장한다.\n",
    "        elif input_list[i].islower():\n",
    "            input_list[i] = input_list[i].upper()\n",
    "    #list를 다시 string으로 바꿔주기 위해 join() method를 사용한다.\n",
    "    print(\"\".join(input_list))\n",
    "    \n",
    "\n",
    "\n",
    "while True:\n",
    "    #input이 STOP이 아니라면, count, convert 함수를 수행한다.\n",
    "    string = input(\"Input:\")\n",
    "    if string != \"STOP\":    \n",
    "        count(string)\n",
    "        convert(string)\n",
    "        \n",
    "    #input으로 STOP이 들어오면 Bye를 print하고 종료한다.\n",
    "    else:\n",
    "        print(\"Bye\")\n",
    "        break"
   ]
  },
  {
   "cell_type": "code",
   "execution_count": 11,
   "id": "9e8a86e3",
   "metadata": {},
   "outputs": [
    {
     "name": "stdout",
     "output_type": "stream",
     "text": [
      "Input:Sogang\n",
      "(s : 1)  (o : 1)  (g : 2)  (a : 1)  (n : 1)  \n",
      "sOGANG\n",
      "Input:SOGANG\n",
      "(s : 1)  (o : 1)  (g : 2)  (a : 1)  (n : 1)  \n",
      "sogang\n",
      "Input:Univ\n",
      "(u : 1)  (n : 1)  (i : 1)  (v : 1)  \n",
      "uNIV\n",
      "Input:Tel\n",
      "(t : 1)  (e : 1)  (l : 1)  \n",
      "tEL\n",
      "Input:STOP\n",
      "Bye\n"
     ]
    }
   ],
   "source": [
    "%run chan.py"
   ]
  },
  {
   "cell_type": "code",
   "execution_count": null,
   "id": "c80d9e0d",
   "metadata": {},
   "outputs": [],
   "source": []
  }
 ],
 "metadata": {
  "kernelspec": {
   "display_name": "Python 3 (ipykernel)",
   "language": "python",
   "name": "python3"
  },
  "language_info": {
   "codemirror_mode": {
    "name": "ipython",
    "version": 3
   },
   "file_extension": ".py",
   "mimetype": "text/x-python",
   "name": "python",
   "nbconvert_exporter": "python",
   "pygments_lexer": "ipython3",
   "version": "3.9.7"
  }
 },
 "nbformat": 4,
 "nbformat_minor": 5
}
