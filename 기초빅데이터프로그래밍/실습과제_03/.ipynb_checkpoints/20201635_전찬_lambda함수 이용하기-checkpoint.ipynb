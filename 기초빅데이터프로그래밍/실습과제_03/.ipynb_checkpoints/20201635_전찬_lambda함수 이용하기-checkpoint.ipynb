{
 "cells": [
  {
   "cell_type": "code",
   "execution_count": 11,
   "id": "61335ca5",
   "metadata": {},
   "outputs": [
    {
     "name": "stdout",
     "output_type": "stream",
     "text": [
      "3 1 5 "
     ]
    }
   ],
   "source": [
    "import random\n",
    "for i in iter(lambda : random.randint(0,5), 2):\n",
    "    print(i, end=\" \")"
   ]
  },
  {
   "cell_type": "code",
   "execution_count": 12,
   "id": "16b924fc",
   "metadata": {},
   "outputs": [],
   "source": [
    "random_data = iter(lambda : random.randint(0,5), 2)"
   ]
  },
  {
   "cell_type": "code",
   "execution_count": 13,
   "id": "23e8fc55",
   "metadata": {},
   "outputs": [
    {
     "data": {
      "text/plain": [
       "1"
      ]
     },
     "execution_count": 13,
     "metadata": {},
     "output_type": "execute_result"
    }
   ],
   "source": [
    "next(random_data)"
   ]
  },
  {
   "cell_type": "code",
   "execution_count": 14,
   "id": "c8fa8fc1",
   "metadata": {},
   "outputs": [
    {
     "data": {
      "text/plain": [
       "3"
      ]
     },
     "execution_count": 14,
     "metadata": {},
     "output_type": "execute_result"
    }
   ],
   "source": [
    "next(random_data)"
   ]
  },
  {
   "cell_type": "code",
   "execution_count": 15,
   "id": "b41dcbeb",
   "metadata": {},
   "outputs": [
    {
     "data": {
      "text/plain": [
       "0"
      ]
     },
     "execution_count": 15,
     "metadata": {},
     "output_type": "execute_result"
    }
   ],
   "source": [
    "next(random_data)"
   ]
  },
  {
   "cell_type": "code",
   "execution_count": 16,
   "id": "dad69223",
   "metadata": {},
   "outputs": [
    {
     "data": {
      "text/plain": [
       "0"
      ]
     },
     "execution_count": 16,
     "metadata": {},
     "output_type": "execute_result"
    }
   ],
   "source": [
    "next(random_data)"
   ]
  },
  {
   "cell_type": "code",
   "execution_count": 17,
   "id": "668187ed",
   "metadata": {},
   "outputs": [
    {
     "data": {
      "text/plain": [
       "5"
      ]
     },
     "execution_count": 17,
     "metadata": {},
     "output_type": "execute_result"
    }
   ],
   "source": [
    "next(random_data)"
   ]
  },
  {
   "cell_type": "code",
   "execution_count": 18,
   "id": "4160fb57",
   "metadata": {},
   "outputs": [
    {
     "data": {
      "text/plain": [
       "5"
      ]
     },
     "execution_count": 18,
     "metadata": {},
     "output_type": "execute_result"
    }
   ],
   "source": [
    "next(random_data)"
   ]
  },
  {
   "cell_type": "code",
   "execution_count": 19,
   "id": "1c6d4681",
   "metadata": {},
   "outputs": [
    {
     "data": {
      "text/plain": [
       "0"
      ]
     },
     "execution_count": 19,
     "metadata": {},
     "output_type": "execute_result"
    }
   ],
   "source": [
    "next(random_data)"
   ]
  },
  {
   "cell_type": "code",
   "execution_count": 20,
   "id": "d8708038",
   "metadata": {},
   "outputs": [
    {
     "data": {
      "text/plain": [
       "3"
      ]
     },
     "execution_count": 20,
     "metadata": {},
     "output_type": "execute_result"
    }
   ],
   "source": [
    "next(random_data)"
   ]
  },
  {
   "cell_type": "code",
   "execution_count": 21,
   "id": "12acd74b",
   "metadata": {},
   "outputs": [
    {
     "data": {
      "text/plain": [
       "5"
      ]
     },
     "execution_count": 21,
     "metadata": {},
     "output_type": "execute_result"
    }
   ],
   "source": [
    "next(random_data)"
   ]
  },
  {
   "cell_type": "code",
   "execution_count": 22,
   "id": "f9fd871d",
   "metadata": {},
   "outputs": [
    {
     "data": {
      "text/plain": [
       "1"
      ]
     },
     "execution_count": 22,
     "metadata": {},
     "output_type": "execute_result"
    }
   ],
   "source": [
    "next(random_data)"
   ]
  },
  {
   "cell_type": "code",
   "execution_count": 23,
   "id": "44b9b03a",
   "metadata": {},
   "outputs": [
    {
     "data": {
      "text/plain": [
       "1"
      ]
     },
     "execution_count": 23,
     "metadata": {},
     "output_type": "execute_result"
    }
   ],
   "source": [
    "next(random_data)"
   ]
  },
  {
   "cell_type": "code",
   "execution_count": 24,
   "id": "b249b9e0",
   "metadata": {},
   "outputs": [
    {
     "data": {
      "text/plain": [
       "1"
      ]
     },
     "execution_count": 24,
     "metadata": {},
     "output_type": "execute_result"
    }
   ],
   "source": [
    "next(random_data)"
   ]
  },
  {
   "cell_type": "code",
   "execution_count": 25,
   "id": "23c5f900",
   "metadata": {},
   "outputs": [
    {
     "data": {
      "text/plain": [
       "5"
      ]
     },
     "execution_count": 25,
     "metadata": {},
     "output_type": "execute_result"
    }
   ],
   "source": [
    "next(random_data)"
   ]
  },
  {
   "cell_type": "code",
   "execution_count": 26,
   "id": "9e3e9fa6",
   "metadata": {},
   "outputs": [
    {
     "data": {
      "text/plain": [
       "3"
      ]
     },
     "execution_count": 26,
     "metadata": {},
     "output_type": "execute_result"
    }
   ],
   "source": [
    "next(random_data)"
   ]
  },
  {
   "cell_type": "code",
   "execution_count": 27,
   "id": "f6c8cfac",
   "metadata": {},
   "outputs": [
    {
     "data": {
      "text/plain": [
       "4"
      ]
     },
     "execution_count": 27,
     "metadata": {},
     "output_type": "execute_result"
    }
   ],
   "source": [
    "next(random_data)"
   ]
  },
  {
   "cell_type": "code",
   "execution_count": 28,
   "id": "91b15109",
   "metadata": {},
   "outputs": [
    {
     "data": {
      "text/plain": [
       "5"
      ]
     },
     "execution_count": 28,
     "metadata": {},
     "output_type": "execute_result"
    }
   ],
   "source": [
    "next(random_data)"
   ]
  },
  {
   "cell_type": "code",
   "execution_count": 29,
   "id": "b949279a",
   "metadata": {},
   "outputs": [
    {
     "data": {
      "text/plain": [
       "1"
      ]
     },
     "execution_count": 29,
     "metadata": {},
     "output_type": "execute_result"
    }
   ],
   "source": [
    "next(random_data)"
   ]
  },
  {
   "cell_type": "code",
   "execution_count": 30,
   "id": "80aa3dfc",
   "metadata": {},
   "outputs": [
    {
     "data": {
      "text/plain": [
       "0"
      ]
     },
     "execution_count": 30,
     "metadata": {},
     "output_type": "execute_result"
    }
   ],
   "source": [
    "next(random_data)"
   ]
  },
  {
   "cell_type": "code",
   "execution_count": 31,
   "id": "170de3a9",
   "metadata": {},
   "outputs": [
    {
     "data": {
      "text/plain": [
       "4"
      ]
     },
     "execution_count": 31,
     "metadata": {},
     "output_type": "execute_result"
    }
   ],
   "source": [
    "next(random_data)"
   ]
  },
  {
   "cell_type": "code",
   "execution_count": 32,
   "id": "fcd0d591",
   "metadata": {},
   "outputs": [
    {
     "data": {
      "text/plain": [
       "1"
      ]
     },
     "execution_count": 32,
     "metadata": {},
     "output_type": "execute_result"
    }
   ],
   "source": [
    "next(random_data)"
   ]
  },
  {
   "cell_type": "code",
   "execution_count": 33,
   "id": "88a5dadb",
   "metadata": {},
   "outputs": [
    {
     "data": {
      "text/plain": [
       "0"
      ]
     },
     "execution_count": 33,
     "metadata": {},
     "output_type": "execute_result"
    }
   ],
   "source": [
    "next(random_data)"
   ]
  },
  {
   "cell_type": "code",
   "execution_count": 34,
   "id": "5c3b058e",
   "metadata": {},
   "outputs": [
    {
     "ename": "StopIteration",
     "evalue": "",
     "output_type": "error",
     "traceback": [
      "\u001b[0;31m---------------------------------------------------------------------------\u001b[0m",
      "\u001b[0;31mStopIteration\u001b[0m                             Traceback (most recent call last)",
      "\u001b[0;32m/var/folders/wr/f4j670m10f717nd7gk_w1ld40000gn/T/ipykernel_9675/3839823291.py\u001b[0m in \u001b[0;36m<module>\u001b[0;34m\u001b[0m\n\u001b[0;32m----> 1\u001b[0;31m \u001b[0mnext\u001b[0m\u001b[0;34m(\u001b[0m\u001b[0mrandom_data\u001b[0m\u001b[0;34m)\u001b[0m\u001b[0;34m\u001b[0m\u001b[0;34m\u001b[0m\u001b[0m\n\u001b[0m",
      "\u001b[0;31mStopIteration\u001b[0m: "
     ]
    }
   ],
   "source": [
    "next(random_data)"
   ]
  },
  {
   "cell_type": "code",
   "execution_count": null,
   "id": "e0871390",
   "metadata": {},
   "outputs": [],
   "source": []
  }
 ],
 "metadata": {
  "kernelspec": {
   "display_name": "Python 3 (ipykernel)",
   "language": "python",
   "name": "python3"
  },
  "language_info": {
   "codemirror_mode": {
    "name": "ipython",
    "version": 3
   },
   "file_extension": ".py",
   "mimetype": "text/x-python",
   "name": "python",
   "nbconvert_exporter": "python",
   "pygments_lexer": "ipython3",
   "version": "3.9.7"
  }
 },
 "nbformat": 4,
 "nbformat_minor": 5
}
