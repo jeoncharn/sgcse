{
 "cells": [
  {
   "cell_type": "code",
   "execution_count": 5,
   "id": "77c3093a",
   "metadata": {},
   "outputs": [],
   "source": [
    "data = [\"3\\n\", \"3.14\\n\", \"\\\"3.14\\\"\"]\n",
    "\n",
    "# 1\n",
    "with open(\"information.txt\", \"w\") as f:\n",
    "    f.writelines(data)\n"
   ]
  },
  {
   "cell_type": "code",
   "execution_count": 6,
   "id": "d802cd8d",
   "metadata": {
    "scrolled": true
   },
   "outputs": [
    {
     "name": "stdout",
     "output_type": "stream",
     "text": [
      "3\n",
      "3.14\n",
      "\"3.14\"\n"
     ]
    }
   ],
   "source": [
    "#2\n",
    "with open(\"information.txt\", \"r\") as f:\n",
    "    print(f.read())"
   ]
  },
  {
   "cell_type": "code",
   "execution_count": 7,
   "id": "97c8b317",
   "metadata": {},
   "outputs": [],
   "source": [
    "#3\n",
    "import pickle\n",
    "\n",
    "with open(\"information.dat\", \"wb\") as f:\n",
    "    pickle.dump(data, f)"
   ]
  },
  {
   "cell_type": "code",
   "execution_count": 8,
   "id": "86d28b6c",
   "metadata": {},
   "outputs": [
    {
     "name": "stdout",
     "output_type": "stream",
     "text": [
      "['3\\n', '3.14\\n', '\"3.14\"']\n"
     ]
    }
   ],
   "source": [
    "#4\n",
    "with open(\"information.dat\", \"rb\") as f:\n",
    "    print(pickle.load(f))"
   ]
  }
 ],
 "metadata": {
  "kernelspec": {
   "display_name": "Python 3 (ipykernel)",
   "language": "python",
   "name": "python3"
  },
  "language_info": {
   "codemirror_mode": {
    "name": "ipython",
    "version": 3
   },
   "file_extension": ".py",
   "mimetype": "text/x-python",
   "name": "python",
   "nbconvert_exporter": "python",
   "pygments_lexer": "ipython3",
   "version": "3.9.7"
  }
 },
 "nbformat": 4,
 "nbformat_minor": 5
}
