{
 "cells": [
  {
   "cell_type": "code",
   "execution_count": 20,
   "id": "a5454919",
   "metadata": {},
   "outputs": [
    {
     "name": "stdout",
     "output_type": "stream",
     "text": [
      "park sunje 남 890901-*******\n",
      "kim sunhee 여 990103-*******\n"
     ]
    }
   ],
   "source": [
    "#data를 통한 입력\n",
    "import re\n",
    "data = \"\"\"\n",
    "park sunje 890901-1074422\n",
    "kim sunhee 990103-2079912\"\"\"\n",
    "\n",
    "id_data = data.splitlines()\n",
    "id_data.remove(\"\")\n",
    "\n",
    "for i in id_data:\n",
    "    print(i.rsplit(\" \", 1)[0], end = \" \")\n",
    "    front, end = i.rsplit(\" \", 1)[1].split(\"-\")\n",
    "    if end[0] == '1' or end[0] == '3':\n",
    "        print(\"남\", re.sub(\"-\\d+\", \"-*******\", i.rsplit(\" \", 1)[1]))\n",
    "    else:\n",
    "        print(\"여\", re.sub(\"-\\d+\", \"-*******\", i.rsplit(\" \", 1)[1]))\n",
    "    "
   ]
  },
  {
   "cell_type": "code",
   "execution_count": 24,
   "id": "b1bd3c38",
   "metadata": {},
   "outputs": [
    {
     "name": "stdout",
     "output_type": "stream",
     "text": [
      "홍길동 남 560922-*******\n",
      "홍길동 남 560922-*******\n",
      "김바한솔 남 911212-*******\n",
      "김연찬 남 920922-*******\n"
     ]
    }
   ],
   "source": [
    "#File을 통한 입력\n",
    "with open(\"Testdata.txt\", \"r\") as f:\n",
    "    data = f.read()\n",
    "    data = data.splitlines()\n",
    "    for i in data:\n",
    "        print(i.split(\" \", 1)[0], end = \" \")\n",
    "        front, end = i.split(\" \")[1].split(\"-\")\n",
    "        if end[0] == '1' or end[0] == '3':\n",
    "            print(\"남\", re.sub(\"-\\d+\", \"-*******\", i.split(\" \")[1]))\n",
    "        else:\n",
    "            print(\"여\", re.sub(\"-\\d+\", \"-*******\", i.rsplit(\" \")[1]))"
   ]
  },
  {
   "cell_type": "code",
   "execution_count": null,
   "id": "a07d13a9",
   "metadata": {},
   "outputs": [],
   "source": []
  }
 ],
 "metadata": {
  "kernelspec": {
   "display_name": "Python 3 (ipykernel)",
   "language": "python",
   "name": "python3"
  },
  "language_info": {
   "codemirror_mode": {
    "name": "ipython",
    "version": 3
   },
   "file_extension": ".py",
   "mimetype": "text/x-python",
   "name": "python",
   "nbconvert_exporter": "python",
   "pygments_lexer": "ipython3",
   "version": "3.9.7"
  }
 },
 "nbformat": 4,
 "nbformat_minor": 5
}
