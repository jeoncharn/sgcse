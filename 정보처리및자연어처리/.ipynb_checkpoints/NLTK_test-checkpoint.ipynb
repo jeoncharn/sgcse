{
 "cells": [
  {
   "cell_type": "code",
   "execution_count": 7,
   "id": "508faa8e",
   "metadata": {},
   "outputs": [
    {
     "name": "stdout",
     "output_type": "stream",
     "text": [
      "Collecting NLTK\n",
      "  File was already downloaded /Users/jeoncharn/Desktop/sgcs 20201635/2022-1/정보처리및자연어처리/nltk-3.7-py3-none-any.whl\n",
      "Collecting joblib\n",
      "  File was already downloaded /Users/jeoncharn/Desktop/sgcs 20201635/2022-1/정보처리및자연어처리/joblib-1.1.0-py2.py3-none-any.whl\n",
      "Collecting regex>=2021.8.3\n",
      "  File was already downloaded /Users/jeoncharn/Desktop/sgcs 20201635/2022-1/정보처리및자연어처리/regex-2022.3.15-cp38-cp38-macosx_10_9_x86_64.whl\n",
      "Collecting click\n",
      "  File was already downloaded /Users/jeoncharn/Desktop/sgcs 20201635/2022-1/정보처리및자연어처리/click-8.1.0-py3-none-any.whl\n",
      "Collecting tqdm\n",
      "  File was already downloaded /Users/jeoncharn/Desktop/sgcs 20201635/2022-1/정보처리및자연어처리/tqdm-4.63.1-py2.py3-none-any.whl\n",
      "Successfully downloaded NLTK regex click joblib tqdm\n"
     ]
    }
   ],
   "source": [
    "!pip download NLTK"
   ]
  },
  {
   "cell_type": "code",
   "execution_count": 9,
   "id": "7b138e55",
   "metadata": {},
   "outputs": [
    {
     "ename": "ModuleNotFoundError",
     "evalue": "No module named 'nltk'",
     "output_type": "error",
     "traceback": [
      "\u001b[0;31m---------------------------------------------------------------------------\u001b[0m",
      "\u001b[0;31mModuleNotFoundError\u001b[0m                       Traceback (most recent call last)",
      "\u001b[0;32m/var/folders/wr/f4j670m10f717nd7gk_w1ld40000gn/T/ipykernel_23004/1734127563.py\u001b[0m in \u001b[0;36m<module>\u001b[0;34m\u001b[0m\n\u001b[0;32m----> 1\u001b[0;31m \u001b[0;32mimport\u001b[0m \u001b[0mnltk\u001b[0m\u001b[0;34m\u001b[0m\u001b[0;34m\u001b[0m\u001b[0m\n\u001b[0m",
      "\u001b[0;31mModuleNotFoundError\u001b[0m: No module named 'nltk'"
     ]
    }
   ],
   "source": [
    "import nltk"
   ]
  },
  {
   "cell_type": "code",
   "execution_count": null,
   "id": "961265b3",
   "metadata": {},
   "outputs": [],
   "source": []
  }
 ],
 "metadata": {
  "kernelspec": {
   "display_name": "Python 3 (ipykernel)",
   "language": "python",
   "name": "python3"
  },
  "language_info": {
   "codemirror_mode": {
    "name": "ipython",
    "version": 3
   },
   "file_extension": ".py",
   "mimetype": "text/x-python",
   "name": "python",
   "nbconvert_exporter": "python",
   "pygments_lexer": "ipython3",
   "version": "3.9.7"
  }
 },
 "nbformat": 4,
 "nbformat_minor": 5
}
