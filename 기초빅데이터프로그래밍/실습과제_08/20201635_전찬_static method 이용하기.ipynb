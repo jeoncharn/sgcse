{
 "cells": [
  {
   "cell_type": "code",
   "execution_count": 2,
   "id": "f2de3c41",
   "metadata": {},
   "outputs": [],
   "source": [
    "from datetime import date, timedelta, datetime\n",
    "\n",
    "class Date:\n",
    "    #받은 input을 split을 통해 year, month, day 단위로 구분해 저장한다.\n",
    "    def __init__(self, date):\n",
    "        split_date = date.split(\", \")\n",
    "        self.year = split_date[0]\n",
    "        self.month = split_date[1]\n",
    "        self.day = split_date[2]\n",
    "    \n",
    "    #print를 수행하는 함수이다. \n",
    "    def show(self):\n",
    "        # 갖고있는(instance 변수) 날짜와 실제 오늘의 날짜가 동일한 경우, today를 print\n",
    "        if datetime.today().year == int(self.year) and datetime.today().month == int(self.month) and datetime.today().day == int(self.day) :\n",
    "            print(\"date: today\")\n",
    "        # 이외의 경우 날짜를 형식에 맞추어 print한다.\n",
    "        else:\n",
    "            print(\"date: {0}, {1}, {2}\".format(self.year, self.month, self.day))\n",
    "    \n",
    "    #위의 show() method와 다르게 return을 수행한다.\n",
    "    # ~~.date 형식으로 사용할 수 있도록 property decorator를 추가한다.\n",
    "    @property\n",
    "    def date(self):\n",
    "        \n",
    "        if datetime.today().year == int(self.year) and datetime.today().month == int(self.month) and datetime.today().day == int(self.day) :\n",
    "            return \"date: today\"\n",
    "        else:\n",
    "            return \"date: {0}, {1}, {2}\".format(self.year, self.month, self.day)\n",
    "    \n",
    "    # 새로운 instance를 만들어내는 정적 method 이다.\n",
    "    @staticmethod\n",
    "    def now():\n",
    "        return Date(\"{0}, {1}, {2}\".format(datetime.today().year, datetime.today().month, datetime.today().day))\n",
    "    \n",
    "    # 입력한 날짜의 전날 instance를 만들어내는 정적 method 이다.\n",
    "    @staticmethod\n",
    "    def yesterday(input_date):\n",
    "        split_date = input_date.split(\", \")\n",
    "        today = date(int(split_date[0]), int(split_date[1]), int(split_date[2]))\n",
    "        yesterday = today - timedelta(days = 1)\n",
    "        \n",
    "        return Date(\"{0}, {1}, {2}\".format(yesterday.year, yesterday.month, yesterday.day))\n",
    "\n"
   ]
  },
  {
   "cell_type": "code",
   "execution_count": 3,
   "id": "d1e21ac9",
   "metadata": {},
   "outputs": [
    {
     "name": "stdout",
     "output_type": "stream",
     "text": [
      "date: 2022, 4, 7\n",
      "date: today\n",
      "date: 2022, 4, 6\n"
     ]
    }
   ],
   "source": [
    "a = Date(\"2022, 4, 7\")\n",
    "a.show()\n",
    "b = Date.now()\n",
    "b.show()\n",
    "c = Date.yesterday(\"2022, 4, 7\")\n",
    "c.show()"
   ]
  },
  {
   "cell_type": "code",
   "execution_count": 4,
   "id": "7a97718f",
   "metadata": {},
   "outputs": [
    {
     "name": "stdout",
     "output_type": "stream",
     "text": [
      "date: 2022, 4, 7\n",
      "date: today\n",
      "date: 2022, 4, 6\n"
     ]
    }
   ],
   "source": [
    "a = Date(\"2022, 4, 7\")\n",
    "a.show()\n",
    "b = Date.now()\n",
    "print(b.date)\n",
    "c = Date.yesterday(\"2022, 4, 7\")\n",
    "print(c.date)"
   ]
  },
  {
   "cell_type": "code",
   "execution_count": 6,
   "id": "9d410fc8",
   "metadata": {},
   "outputs": [
    {
     "name": "stdout",
     "output_type": "stream",
     "text": [
      "date: 2020, 12, 31\n",
      "date: today\n"
     ]
    }
   ],
   "source": [
    "#1월 1일인 경우, 전날이 12월 31일으로 잘 나오는지 확인\n",
    "test1 = Date.yesterday(\"2021, 1, 1\")\n",
    "print(test1.date)\n",
    "\n",
    "#오늘의 날짜를 직접 입력했을 때, today가 나오는지 확인\n",
    "test2 = Date(\"2022, 4, 15\")\n",
    "test2.show()"
   ]
  },
  {
   "cell_type": "code",
   "execution_count": null,
   "id": "98a9b50b",
   "metadata": {},
   "outputs": [],
   "source": []
  }
 ],
 "metadata": {
  "kernelspec": {
   "display_name": "Python 3 (ipykernel)",
   "language": "python",
   "name": "python3"
  },
  "language_info": {
   "codemirror_mode": {
    "name": "ipython",
    "version": 3
   },
   "file_extension": ".py",
   "mimetype": "text/x-python",
   "name": "python",
   "nbconvert_exporter": "python",
   "pygments_lexer": "ipython3",
   "version": "3.9.7"
  }
 },
 "nbformat": 4,
 "nbformat_minor": 5
}
