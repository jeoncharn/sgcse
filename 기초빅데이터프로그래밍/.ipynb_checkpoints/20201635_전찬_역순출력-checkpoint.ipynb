{
 "cells": [
  {
   "cell_type": "code",
   "execution_count": 18,
   "id": "b1b719ea",
   "metadata": {},
   "outputs": [
    {
     "name": "stdout",
     "output_type": "stream",
     "text": [
      "Overwriting inverseIn.py\n"
     ]
    }
   ],
   "source": [
    "%%writefile inverseIn.py\n",
    "\n",
    "#x를 거꾸로 출력하는 함수이다.\n",
    "def inverse(x):\n",
    "    return x[::-1]\n",
    "\n",
    "#input 함수는 기본적으로 string 형태로 입력을 받으며, int() 등의 형변환이 가능하다.\n",
    "input_string = input(\"Input :\")\n",
    "\n",
    "#range(0, k)는 0~k-1을 원소로 가지는 배열을 reuturn해준다.\n",
    "for i in range(0, len(input_string)):\n",
    "    #list[i:j]는 list의 i~j-1까지의 원소를 return해준다.\n",
    "    print(inverse(input_string[0:i+1]))"
   ]
  },
  {
   "cell_type": "code",
   "execution_count": 19,
   "id": "01401931",
   "metadata": {},
   "outputs": [
    {
     "name": "stdout",
     "output_type": "stream",
     "text": [
      "Input :Sogang University\n",
      "S\n",
      "oS\n",
      "goS\n",
      "agoS\n",
      "nagoS\n",
      "gnagoS\n",
      " gnagoS\n",
      "U gnagoS\n",
      "nU gnagoS\n",
      "inU gnagoS\n",
      "vinU gnagoS\n",
      "evinU gnagoS\n",
      "revinU gnagoS\n",
      "srevinU gnagoS\n",
      "isrevinU gnagoS\n",
      "tisrevinU gnagoS\n",
      "ytisrevinU gnagoS\n"
     ]
    }
   ],
   "source": [
    "%run inverseIn.py"
   ]
  },
  {
   "cell_type": "code",
   "execution_count": null,
   "id": "b64269e4",
   "metadata": {},
   "outputs": [],
   "source": []
  }
 ],
 "metadata": {
  "kernelspec": {
   "display_name": "Python 3 (ipykernel)",
   "language": "python",
   "name": "python3"
  },
  "language_info": {
   "codemirror_mode": {
    "name": "ipython",
    "version": 3
   },
   "file_extension": ".py",
   "mimetype": "text/x-python",
   "name": "python",
   "nbconvert_exporter": "python",
   "pygments_lexer": "ipython3",
   "version": "3.9.7"
  }
 },
 "nbformat": 4,
 "nbformat_minor": 5
}
