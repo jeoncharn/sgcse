{
 "cells": [
  {
   "cell_type": "code",
   "execution_count": 15,
   "id": "b982507b",
   "metadata": {},
   "outputs": [],
   "source": [
    "import numpy as np\n",
    "import random as rd\n",
    "import time"
   ]
  },
  {
   "cell_type": "code",
   "execution_count": 19,
   "id": "ff904cff",
   "metadata": {},
   "outputs": [
    {
     "name": "stdout",
     "output_type": "stream",
     "text": [
      "python list exe. time  0.4125230312347412\n",
      "numpy ndarray exe. time  0.00577998161315918\n",
      "numpy is in this example 71.37099368889989 faster\n"
     ]
    }
   ],
   "source": [
    "def pure_python_version():\n",
    "    data = [rd.randint(0, 100) for i in range(0, 10000000)]\n",
    "    sum_value = 0\n",
    "    \n",
    "    starttime = time.time()\n",
    "    for i in data:\n",
    "        sum_value += i\n",
    "    endtime = time.time()\n",
    "    \n",
    "    return endtime - starttime\n",
    "\n",
    "def numpy_version():\n",
    "    data = np.array([rd.randint(0, 100) for i in range(0, 10000000)])\n",
    "    starttime = time.time()\n",
    "    np.sum(data)\n",
    "    endtime = time.time()\n",
    "    \n",
    "    return endtime - starttime\n",
    "    \n",
    "t1 = pure_python_version()\n",
    "t2 = numpy_version()\n",
    "print(\"python list exe. time \", t1)\n",
    "print(\"numpy ndarray exe. time \", t2)\n",
    "print(\"numpy is in this example \" + str(t1/t2) + \" faster\")"
   ]
  },
  {
   "cell_type": "code",
   "execution_count": null,
   "id": "5aa6b020",
   "metadata": {},
   "outputs": [],
   "source": []
  }
 ],
 "metadata": {
  "kernelspec": {
   "display_name": "Python 3 (ipykernel)",
   "language": "python",
   "name": "python3"
  },
  "language_info": {
   "codemirror_mode": {
    "name": "ipython",
    "version": 3
   },
   "file_extension": ".py",
   "mimetype": "text/x-python",
   "name": "python",
   "nbconvert_exporter": "python",
   "pygments_lexer": "ipython3",
   "version": "3.9.7"
  }
 },
 "nbformat": 4,
 "nbformat_minor": 5
}
