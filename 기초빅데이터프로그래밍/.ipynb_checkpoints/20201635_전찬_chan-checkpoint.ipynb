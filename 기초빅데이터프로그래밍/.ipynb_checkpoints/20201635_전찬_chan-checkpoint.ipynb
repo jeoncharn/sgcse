{
 "cells": [
  {
   "cell_type": "code",
   "execution_count": 55,
   "id": "22465c16",
   "metadata": {},
   "outputs": [],
   "source": [
    "def count(string):\n",
    "    input_list = list(string.lower())\n",
    "    dict_count = {}\n",
    "    for i in input_list:\n",
    "        if i in dict_count:\n",
    "            dict_count[i] += 1\n",
    "            \n",
    "        else:\n",
    "            dict_count[i] = 1\n",
    "\n",
    "    for i in dict_count:\n",
    "        print(\"({char} : {count})  \".format(char = i, count = dict_count[i]), end = '')\n",
    "    print(\"\")\n"
   ]
  },
  {
   "cell_type": "code",
   "execution_count": 56,
   "id": "a7108d84",
   "metadata": {},
   "outputs": [
    {
     "name": "stdout",
     "output_type": "stream",
     "text": [
      "(j : 1)  (e : 1)  (o : 1)  (n : 2)  (c : 1)  (h : 1)  (a : 1)  (r : 1)  \n"
     ]
    }
   ],
   "source": [
    "count(\"jeoncharn\")"
   ]
  },
  {
   "cell_type": "code",
   "execution_count": 57,
   "id": "e3f2e6fb",
   "metadata": {},
   "outputs": [
    {
     "name": "stdout",
     "output_type": "stream",
     "text": [
      "(j : 1)  (e : 1)  (o : 1)  (n : 2)  (c : 1)  (h : 1)  (a : 1)  (r : 1)  \n"
     ]
    }
   ],
   "source": [
    "count(\"Jeoncharn\")"
   ]
  },
  {
   "cell_type": "code",
   "execution_count": 58,
   "id": "054ded3d",
   "metadata": {},
   "outputs": [],
   "source": [
    "def convert(string):\n",
    "    input_list = list(string)\n",
    "\n",
    "    for i in range(0, len(input_list)):\n",
    "        if input_list[i].isupper():\n",
    "            input_list[i] = input_list[i].lower()\n",
    "            \n",
    "        elif input_list[i].islower():\n",
    "            input_list[i] = input_list[i].upper()\n",
    "        \n",
    "    print(\"\".join(input_list))"
   ]
  },
  {
   "cell_type": "code",
   "execution_count": 59,
   "id": "1251384c",
   "metadata": {},
   "outputs": [
    {
     "name": "stdout",
     "output_type": "stream",
     "text": [
      "sOGANG uNIVERSITY\n"
     ]
    }
   ],
   "source": [
    "convert(\"Sogang University\")"
   ]
  },
  {
   "cell_type": "code",
   "execution_count": 61,
   "id": "0d6533df",
   "metadata": {},
   "outputs": [
    {
     "name": "stdout",
     "output_type": "stream",
     "text": [
      "Input:Sogang\n",
      "(s : 1)  (o : 1)  (g : 2)  (a : 1)  (n : 1)  \n",
      "sOGANG\n",
      "Input:STOP\n",
      "Bye\n"
     ]
    }
   ],
   "source": [
    "while True:\n",
    "    string = input(\"Input:\")\n",
    "    if string != \"STOP\":    \n",
    "        count(string)\n",
    "        convert(string)\n",
    "    else:\n",
    "        print(\"Bye\")\n",
    "        break"
   ]
  },
  {
   "cell_type": "code",
   "execution_count": null,
   "id": "9e8a86e3",
   "metadata": {},
   "outputs": [],
   "source": []
  }
 ],
 "metadata": {
  "kernelspec": {
   "display_name": "Python 3 (ipykernel)",
   "language": "python",
   "name": "python3"
  },
  "language_info": {
   "codemirror_mode": {
    "name": "ipython",
    "version": 3
   },
   "file_extension": ".py",
   "mimetype": "text/x-python",
   "name": "python",
   "nbconvert_exporter": "python",
   "pygments_lexer": "ipython3",
   "version": "3.9.7"
  }
 },
 "nbformat": 4,
 "nbformat_minor": 5
}
