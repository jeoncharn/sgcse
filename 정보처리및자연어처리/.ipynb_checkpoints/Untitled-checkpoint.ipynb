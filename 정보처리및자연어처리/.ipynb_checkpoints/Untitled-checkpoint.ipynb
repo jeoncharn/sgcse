{
 "cells": [
  {
   "cell_type": "code",
   "execution_count": 7,
   "id": "d5caa4d2",
   "metadata": {},
   "outputs": [],
   "source": [
    "def stem1(string):\n",
    "    end_list = [\"ed\", \"s\", \"ing\"]\n",
    "    for i in end_list:\n",
    "        if string.endswith(i):\n",
    "            return string[:-len(i)]\n",
    "    return string\n",
    "\n",
    "def stem2(string):\n",
    "    import re\n",
    "    if re.match(\"(.*)(ed|s|ing)\", string):\n",
    "        return re.match(\"(.*)(ed|s|ing)\", string).groups()[0]\n",
    "    else:\n",
    "        return string"
   ]
  },
  {
   "cell_type": "code",
   "execution_count": 8,
   "id": "6debbeb7",
   "metadata": {},
   "outputs": [
    {
     "data": {
      "text/plain": [
       "'look'"
      ]
     },
     "execution_count": 8,
     "metadata": {},
     "output_type": "execute_result"
    }
   ],
   "source": [
    "stem1(\"look\")"
   ]
  },
  {
   "cell_type": "code",
   "execution_count": 9,
   "id": "e2b71a19",
   "metadata": {},
   "outputs": [
    {
     "data": {
      "text/plain": [
       "'look'"
      ]
     },
     "execution_count": 9,
     "metadata": {},
     "output_type": "execute_result"
    }
   ],
   "source": [
    "stem1(\"looks\")"
   ]
  },
  {
   "cell_type": "code",
   "execution_count": 10,
   "id": "e2929e2e",
   "metadata": {},
   "outputs": [
    {
     "data": {
      "text/plain": [
       "'look'"
      ]
     },
     "execution_count": 10,
     "metadata": {},
     "output_type": "execute_result"
    }
   ],
   "source": [
    "stem2(\"looks\")"
   ]
  },
  {
   "cell_type": "code",
   "execution_count": 11,
   "id": "09265706",
   "metadata": {},
   "outputs": [
    {
     "data": {
      "text/plain": [
       "'look'"
      ]
     },
     "execution_count": 11,
     "metadata": {},
     "output_type": "execute_result"
    }
   ],
   "source": [
    "stem2(\"look\")"
   ]
  },
  {
   "cell_type": "code",
   "execution_count": null,
   "id": "a5325eec",
   "metadata": {},
   "outputs": [],
   "source": []
  }
 ],
 "metadata": {
  "kernelspec": {
   "display_name": "Python 3 (ipykernel)",
   "language": "python",
   "name": "python3"
  },
  "language_info": {
   "codemirror_mode": {
    "name": "ipython",
    "version": 3
   },
   "file_extension": ".py",
   "mimetype": "text/x-python",
   "name": "python",
   "nbconvert_exporter": "python",
   "pygments_lexer": "ipython3",
   "version": "3.9.7"
  }
 },
 "nbformat": 4,
 "nbformat_minor": 5
}
